{
 "metadata": {
  "language_info": {
   "codemirror_mode": {
    "name": "ipython",
    "version": 3
   },
   "file_extension": ".py",
   "mimetype": "text/x-python",
   "name": "python",
   "nbconvert_exporter": "python",
   "pygments_lexer": "ipython3",
   "version": "3.8.6-final"
  },
  "orig_nbformat": 2,
  "kernelspec": {
   "name": "python3",
   "display_name": "Python 3.8.6 64-bit",
   "metadata": {
    "interpreter": {
     "hash": "19baaf224a92e96992eb73c7fedbd5b75bc31215681e7882ad7fd1e988415337"
    }
   }
  }
 },
 "nbformat": 4,
 "nbformat_minor": 2,
 "cells": [
  {
   "cell_type": "code",
   "execution_count": null,
   "metadata": {},
   "outputs": [],
   "source": [
    "# Load the NeuroKit package and other useful packages\n",
    "import neurokit2 as nk\n",
    "import matplotlib.pyplot as plt\n",
    "#%matplotlib inline\n",
    "\n",
    "import pandas as pd\n",
    "\n",
    "plt.rcParams['figure.figsize'] = [15, 9]  # Bigger images\n",
    "\n",
    "#............CUT HERE...................\n",
    "\n",
    "data = pd.read_csv('C:/Users/ANAS/Desktop/Anas Here/DATASET DREAMER/FIL.csv')\n",
    "peaks, info = nk.ecg_peaks(data[\"ECG\"], sampling_rate=256)\n",
    "hrv_time = nk.hrv_time(peaks, sampling_rate=256, show=False)\n",
    "hrv_freq = nk.hrv_frequency(peaks, sampling_rate=256, show=False)\n",
    "hrv_non = nk.hrv_nonlinear(peaks, sampling_rate=256, show=False)\n",
    "hrv_indices = nk.hrv(peaks, sampling_rate=256, show=True)\n",
    "#df = hrv_indices\n",
    "#df.to_csv('C:/Users/ANAS/Desktop/Anas Here/NK2HRVF.csv', mode='a', header=False)"
   ]
  },
  {
   "cell_type": "code",
   "execution_count": null,
   "metadata": {},
   "outputs": [],
   "source": [
    "data = pd.read_csv('C:/Users/ANAS/Desktop/Anas Here/DATASET DREAMER/FIL.csv')\n",
    "#ecg = data\n",
    "#ecg = nk.ecg_simulate(duration=2, sampling_rate=256)\n",
    "#signals = pd.DataFrame({\"ECG_Raw\" : ecg,\n",
    "#                       \"ECG_BioSPPy\" : nk.ecg_clean(ecg, sampling_rate=256, method=\"biosppy\"),\n",
    "#                        \"ECG_PanTompkins\" : nk.ecg_clean(ecg, sampling_rate=256, method=\"pantompkins1985\"),\n",
    "#                        \"ECG_Hamilton\" : nk.ecg_clean(ecg, sampling_rate=256, method=\"hamilton2002\"),\n",
    "#                        \"ECG_Elgendi\" : nk.ecg_clean(ecg, sampling_rate=256, method=\"elgendi2010\"),\n",
    "#                        \"ECG_EngZeeMod\" : nk.ecg_clean(ecg, sampling_rate=256, method=\"engzeemod2012\")})\n",
    "\n",
    "signals = nk.ecg_clean(data, sampling_rate=256, method=\"neurokit\")\n",
    "signal1 = nk.ecg_clean(data, sampling_rate=256, method=\"biosppy\")\n",
    "signal2 = nk.ecg_clean(data, sampling_rate=256, method=\"pantompkins1985\")\n",
    "signal3 = nk.ecg_clean(data, sampling_rate=256, method=\"hamilton2002\")\n",
    "signal4 = nk.ecg_clean(data, sampling_rate=256, method=\"elgendi2010\")\n",
    "signal5 = nk.ecg_clean(data, sampling_rate=256, method=\"engzeemod2012\")\n",
    "\n",
    "\n",
    "#signals.plot() \n",
    "#<AxesSubplot:>"
   ]
  },
  {
   "cell_type": "code",
   "execution_count": null,
   "metadata": {},
   "outputs": [],
   "source": [
    "peaks, info = nk.ecg_peaks(signals, sampling_rate=256)\n",
    "hrv_time = nk.hrv_time(peaks, sampling_rate=256, show=False)\n",
    "hrv_freq = nk.hrv_frequency(peaks, sampling_rate=256, show=False)\n",
    "hrv_non = nk.hrv_nonlinear(peaks, sampling_rate=256, show=False)\n",
    "hrv_indie = nk.hrv(peaks, sampling_rate=256, show=True)"
   ]
  },
  {
   "cell_type": "code",
   "execution_count": null,
   "metadata": {},
   "outputs": [],
   "source": [
    "peaks, info = nk.ecg_peaks(signal1, sampling_rate=256)\n",
    "hrv_time = nk.hrv_time(peaks, sampling_rate=256, show=False)\n",
    "hrv_freq = nk.hrv_frequency(peaks, sampling_rate=256, show=False)\n",
    "hrv_non = nk.hrv_nonlinear(peaks, sampling_rate=256, show=False)\n",
    "hrv_indie1 = nk.hrv(peaks, sampling_rate=256, show=True)"
   ]
  },
  {
   "cell_type": "code",
   "execution_count": null,
   "metadata": {},
   "outputs": [],
   "source": [
    "peaks, info = nk.ecg_peaks(signal2, sampling_rate=256)\n",
    "hrv_time = nk.hrv_time(peaks, sampling_rate=256, show=False)\n",
    "hrv_freq = nk.hrv_frequency(peaks, sampling_rate=256, show=False)\n",
    "hrv_non = nk.hrv_nonlinear(peaks, sampling_rate=256, show=False)\n",
    "hrv_indie2 = nk.hrv(peaks, sampling_rate=256, show=True)"
   ]
  },
  {
   "cell_type": "code",
   "execution_count": null,
   "metadata": {},
   "outputs": [],
   "source": [
    "peaks, info = nk.ecg_peaks(signal3, sampling_rate=256)\n",
    "hrv_time = nk.hrv_time(peaks, sampling_rate=256, show=False)\n",
    "hrv_freq = nk.hrv_frequency(peaks, sampling_rate=256, show=False)\n",
    "hrv_non = nk.hrv_nonlinear(peaks, sampling_rate=256, show=False)\n",
    "hrv_indie3 = nk.hrv(peaks, sampling_rate=256, show=True)"
   ]
  },
  {
   "cell_type": "code",
   "execution_count": null,
   "metadata": {},
   "outputs": [],
   "source": [
    "peaks, info = nk.ecg_peaks(signal4, sampling_rate=256)\n",
    "hrv_time = nk.hrv_time(peaks, sampling_rate=256, show=False)\n",
    "hrv_freq = nk.hrv_frequency(peaks, sampling_rate=256, show=False)\n",
    "hrv_non = nk.hrv_nonlinear(peaks, sampling_rate=256, show=False)\n",
    "hrv_indie4 = nk.hrv(peaks, sampling_rate=256, show=True)"
   ]
  },
  {
   "cell_type": "code",
   "execution_count": null,
   "metadata": {},
   "outputs": [],
   "source": [
    "peaks, info = nk.ecg_peaks(signal5, sampling_rate=256)\n",
    "hrv_time = nk.hrv_time(peaks, sampling_rate=256, show=False)\n",
    "hrv_freq = nk.hrv_frequency(peaks, sampling_rate=256, show=False)\n",
    "hrv_non = nk.hrv_nonlinear(peaks, sampling_rate=256, show=False)\n",
    "hrv_indie5 = nk.hrv(peaks, sampling_rate=256, show=True)"
   ]
  },
  {
   "cell_type": "code",
   "execution_count": null,
   "metadata": {},
   "outputs": [],
   "source": [
    "# ON data = pd.read_csv('C:/Users/ANAS/Desktop/Anas Here/DATASET DREAMER/P1V1.csv')\n",
    "\n",
    "#FOLLOW BELOW TO IMPORT DATA\n",
    "#data = nk.data(\"bio_resting_5min_100hz\")\n",
    "#data.head()  # Print first 5 rows"
   ]
  },
  {
   "cell_type": "code",
   "execution_count": null,
   "metadata": {},
   "outputs": [],
   "source": [
    "# Find peaks\n",
    "# ON peaks, info = nk.ecg_peaks(data[\"ECG\"], sampling_rate=256)"
   ]
  },
  {
   "cell_type": "code",
   "execution_count": null,
   "metadata": {},
   "outputs": [],
   "source": [
    "# Extract clean EDA and SCR features (TIME DOMAIN ANALYSIS)\n",
    "# ON hrv_time = nk.hrv_time(peaks, sampling_rate=256, show=False)\n",
    "#hrv_time"
   ]
  },
  {
   "cell_type": "code",
   "execution_count": null,
   "metadata": {},
   "outputs": [],
   "source": [
    "# (FREQUENCY DOMAIN ANALYSIS)\n",
    "# ON hrv_freq = nk.hrv_frequency(peaks, sampling_rate=256, show=False)\n",
    "#hrv_freq"
   ]
  },
  {
   "cell_type": "code",
   "execution_count": null,
   "metadata": {},
   "outputs": [],
   "source": [
    "# (NON LINEAR DOMAIN ANALYSIS)\n",
    "# ON hrv_non = nk.hrv_nonlinear(peaks, sampling_rate=256, show=False)\n",
    "#hrv_non"
   ]
  },
  {
   "cell_type": "code",
   "execution_count": null,
   "metadata": {},
   "outputs": [],
   "source": [
    "# (ALL DOMAINS)\n",
    "# ON hrv_indices = nk.hrv(peaks, sampling_rate=256, show=False)\n",
    "#hrv_indices"
   ]
  },
  {
   "cell_type": "code",
   "execution_count": null,
   "metadata": {},
   "outputs": [],
   "source": [
    "# ON df = hrv_indices\n",
    "# ON df.to_csv('C:/Users/ANAS/Desktop/Anas Here/NK2HRVF.csv', mode='a', header=False)"
   ]
  },
  {
   "cell_type": "code",
   "execution_count": null,
   "metadata": {},
   "outputs": [],
   "source": []
  }
 ]
}