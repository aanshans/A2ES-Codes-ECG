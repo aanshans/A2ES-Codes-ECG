{
 "cells": [
  {
   "cell_type": "code",
   "execution_count": 1,
   "metadata": {},
   "outputs": [],
   "source": [
    "import pandas as pd  \r\n",
    "import numpy as np\r\n",
    "from sklearn.model_selection import train_test_split\r\n",
    "from sklearn import preprocessing\r\n",
    "\r\n",
    "from mlxtend.feature_selection import SequentialFeatureSelector as SFS\r\n",
    "from mlxtend.plotting import plot_sequential_feature_selection as plot_sfs\r\n",
    "# from sklearn.discriminant_analysis import LinearDiscriminantAnalysis as LDA\r\n",
    "\r\n",
    "from sklearn.svm import SVC  \r\n",
    "from sklearn.neighbors import KNeighborsClassifier\r\n",
    "\r\n",
    "from sklearn.model_selection import StratifiedKFold\r\n",
    "from sklearn.model_selection import GridSearchCV\r\n",
    "from sklearn.metrics import classification_report, confusion_matrix  \r\n",
    "import matplotlib.pyplot as plt\r\n",
    "\r\n",
    "import seaborn as sns\r\n",
    "\r\n",
    "%matplotlib inline"
   ]
  },
  {
   "cell_type": "code",
   "execution_count": 2,
   "metadata": {},
   "outputs": [],
   "source": [
    "def make_confusion_matrix(cf,\r\n",
    "                          group_names=None,\r\n",
    "                          categories='auto',\r\n",
    "                          count=True,\r\n",
    "                          percent=True,\r\n",
    "                          cbar=True,\r\n",
    "                          xyticks=True,\r\n",
    "                          xyplotlabels=True,\r\n",
    "                          sum_stats=True,\r\n",
    "                          figsize=None,\r\n",
    "                          cmap='Blues',\r\n",
    "                          title=None):\r\n",
    "    '''\r\n",
    "    This function will make a pretty plot of an sklearn Confusion Matrix cm using a Seaborn heatmap visualization.\r\n",
    "    Arguments\r\n",
    "    ---------\r\n",
    "    cf:            confusion matrix to be passed in\r\n",
    "    group_names:   List of strings that represent the labels row by row to be shown in each square.\r\n",
    "    categories:    List of strings containing the categories to be displayed on the x,y axis. Default is 'auto'\r\n",
    "    count:         If True, show the raw number in the confusion matrix. Default is True.\r\n",
    "    normalize:     If True, show the proportions for each category. Default is True.\r\n",
    "    cbar:          If True, show the color bar. The cbar values are based off the values in the confusion matrix.\r\n",
    "                   Default is True.\r\n",
    "    xyticks:       If True, show x and y ticks. Default is True.\r\n",
    "    xyplotlabels:  If True, show 'True Label' and 'Predicted Label' on the figure. Default is True.\r\n",
    "    sum_stats:     If True, display summary statistics below the figure. Default is True.\r\n",
    "    figsize:       Tuple representing the figure size. Default will be the matplotlib rcParams value.\r\n",
    "    cmap:          Colormap of the values displayed from matplotlib.pyplot.cm. Default is 'Blues'\r\n",
    "                   See http://matplotlib.org/examples/color/colormaps_reference.html\r\n",
    "                   \r\n",
    "    title:         Title for the heatmap. Default is None.\r\n",
    "    '''\r\n",
    "\r\n",
    "\r\n",
    "    # CODE TO GENERATE TEXT INSIDE EACH SQUARE\r\n",
    "    blanks = ['' for i in range(cf.size)]\r\n",
    "\r\n",
    "    if group_names and len(group_names)==cf.size:\r\n",
    "        group_labels = [\"{}\\n\".format(value) for value in group_names]\r\n",
    "    else:\r\n",
    "        group_labels = blanks\r\n",
    "\r\n",
    "    if count:\r\n",
    "        group_counts = [\"{0:0.0f}\\n\".format(value) for value in cf.flatten()]\r\n",
    "    else:\r\n",
    "        group_counts = blanks\r\n",
    "\r\n",
    "    if percent:\r\n",
    "        group_percentages = [\"{0:.2%}\".format(value) for value in cf.flatten()/np.sum(cf)]\r\n",
    "    else:\r\n",
    "        group_percentages = blanks\r\n",
    "\r\n",
    "    box_labels = [f\"{v1}{v2}{v3}\".strip() for v1, v2, v3 in zip(group_labels,group_counts,group_percentages)]\r\n",
    "    box_labels = np.asarray(box_labels).reshape(cf.shape[0],cf.shape[1])\r\n",
    "\r\n",
    "\r\n",
    "    # CODE TO GENERATE SUMMARY STATISTICS & TEXT FOR SUMMARY STATS\r\n",
    "    if sum_stats:\r\n",
    "        #Accuracy is sum of diagonal divided by total observations\r\n",
    "        accuracy  = np.trace(cf) / float(np.sum(cf))\r\n",
    "\r\n",
    "        #if it is a binary confusion matrix, show some more stats\r\n",
    "        if len(cf)==2:\r\n",
    "            #Metrics for Binary Confusion Matrices\r\n",
    "            precision = cf[1,1] / sum(cf[:,1])\r\n",
    "            recall    = cf[1,1] / sum(cf[1,:])\r\n",
    "            f1_score  = 2*precision*recall / (precision + recall)\r\n",
    "            stats_text = \"\\n\\nAccuracy={:0.3f}\\nPrecision={:0.3f}\\nRecall={:0.3f}\\nF1 Score={:0.3f}\".format(\r\n",
    "                accuracy,precision,recall,f1_score)\r\n",
    "        else:\r\n",
    "            stats_text = \"\\n\\nAccuracy={:0.3f}\".format(accuracy)\r\n",
    "    else:\r\n",
    "        stats_text = \"\"\r\n",
    "\r\n",
    "\r\n",
    "    # SET FIGURE PARAMETERS ACCORDING TO OTHER ARGUMENTS\r\n",
    "    if figsize==None:\r\n",
    "        #Get default figure size if not set\r\n",
    "        figsize = plt.rcParams.get('figure.figsize')\r\n",
    "\r\n",
    "    if xyticks==False:\r\n",
    "        #Do not show categories if xyticks is False\r\n",
    "        categories=False\r\n",
    "\r\n",
    "\r\n",
    "    # MAKE THE HEATMAP VISUALIZATION\r\n",
    "    plt.figure(figsize=figsize)\r\n",
    "    sns.heatmap(cf,annot=box_labels,fmt=\"\",cmap=cmap,cbar=cbar,xticklabels=categories,yticklabels=categories)\r\n",
    "\r\n",
    "    if xyplotlabels:\r\n",
    "        plt.ylabel('Actual class')\r\n",
    "        plt.xlabel('Predicted class' + stats_text)\r\n",
    "    else:\r\n",
    "        plt.xlabel(stats_text)\r\n",
    "    \r\n",
    "    if title:\r\n",
    "        plt.title(title)"
   ]
  },
  {
   "cell_type": "code",
   "execution_count": 3,
   "metadata": {},
   "outputs": [],
   "source": [
    "data = pd.read_csv('/home/ceci/Desktop/perf/DATA_MU/mucomb.csv')\n",
    "\n",
    "X = data.drop(['val','aro','posneg','dem'], axis=1)\n",
    "y = data['posneg']\n",
    "X_train, X_test, y_train, y_test = train_test_split(X, y, test_size = 0.20, random_state=42, stratify=y)"
   ]
  },
  {
   "cell_type": "code",
   "execution_count": 4,
   "metadata": {},
   "outputs": [],
   "source": [
    "scaler_ss = preprocessing.StandardScaler()\r\n",
    "scaler_mm = preprocessing.MinMaxScaler()\r\n",
    "########################################################\r\n",
    "X_train_ss = scaler_ss.fit_transform(X_train, y_train)\r\n",
    "X_test_ss = scaler_ss.transform(X_test)\r\n",
    "\r\n",
    "X_train_mm = scaler_mm.fit_transform(X_train, y_train)\r\n",
    "X_test_mm = scaler_mm.transform(X_test)"
   ]
  },
  {
   "cell_type": "markdown",
   "metadata": {},
   "source": [
    "WITHOUT FEATURE SELECTION & REDUCTION"
   ]
  },
  {
   "cell_type": "code",
   "execution_count": null,
   "metadata": {},
   "outputs": [],
   "source": [
    "#CLASSIFIER\n",
    "model_svm = SVC()\n",
    "parameters_svm_ss = {'kernel': ['rbf'], \n",
    "              'C': [100], \n",
    "              'gamma': [0.01]}\n",
    "\n",
    "parameters_svm_mm = {'kernel': ['rbf'], \n",
    "              'C': [100], \n",
    "              'gamma': [1]}\n",
    "\n",
    "model_knn = KNeighborsClassifier()\n",
    "parameters_knn = {'n_neighbors': [2],\n",
    "              'weights': ['distance'], \n",
    "              'metric': ['hamming']}"
   ]
  },
  {
   "cell_type": "code",
   "execution_count": 5,
   "metadata": {},
   "outputs": [],
   "source": [
    "#CROSS VALIDATION\r\n",
    "cv = StratifiedKFold(n_splits=10, shuffle=True, random_state=42)"
   ]
  },
  {
   "cell_type": "code",
   "execution_count": null,
   "metadata": {},
   "outputs": [],
   "source": [
    "#TRAINING\n",
    "########### SVM TRAINING #############')\n",
    "gs_ss_svm = GridSearchCV(model_svm, parameters_svm_ss, refit=True, cv=cv, verbose=3, return_train_score=True, n_jobs=-1) \n",
    "gs_ss_svm.fit(X_train_ss, y_train)\n",
    "print(gs_ss_svm.best_estimator_)\n",
    "print(gs_ss_svm.cv_results_)"
   ]
  },
  {
   "cell_type": "code",
   "execution_count": null,
   "metadata": {},
   "outputs": [],
   "source": [
    "gs_mm_svm = GridSearchCV(model_svm, parameters_svm_mm, refit=True, cv=cv, verbose=3, return_train_score=True, n_jobs=-1) \n",
    "gs_mm_svm.fit(X_train_mm, y_train)\n",
    "print(gs_mm_svm.best_estimator_)\n",
    "print(gs_mm_svm.cv_results_)"
   ]
  },
  {
   "cell_type": "code",
   "execution_count": null,
   "metadata": {},
   "outputs": [],
   "source": [
    "########### KNN TRAINING #############')\r\n",
    "gs_ss_knn = GridSearchCV(model_knn, parameters_knn, refit=True, cv=cv, verbose=3, return_train_score=True, n_jobs=-1) \r\n",
    "gs_ss_knn.fit(X_train_ss, y_train)\r\n",
    "print(gs_ss_knn.best_estimator_)\r\n",
    "print(gs_ss_knn.cv_results_)"
   ]
  },
  {
   "cell_type": "code",
   "execution_count": null,
   "metadata": {},
   "outputs": [],
   "source": [
    "gs_mm_knn = GridSearchCV(model_knn, parameters_knn, refit=True, cv=cv, verbose=3, return_train_score=True, n_jobs=-1) \r\n",
    "gs_mm_knn.fit(X_train_mm, y_train)\r\n",
    "print(gs_mm_knn.best_estimator_)\r\n",
    "print(gs_mm_knn.cv_results_)"
   ]
  },
  {
   "cell_type": "code",
   "execution_count": null,
   "metadata": {},
   "outputs": [],
   "source": [
    "#TESTING\n",
    "print('##################### SVM TESTING #####################')\n",
    "print('StandardScaler________________________________________')\n",
    "gp_ss_svm = gs_ss_svm.predict(X_test_ss)\n",
    "cm_ss = confusion_matrix(y_test,gp_ss_svm)\n",
    "# print(cm_ss)\n",
    "print(classification_report(y_test,gp_ss_svm))\n",
    "\n",
    "print('MinMaxScaler__________________________________________')\n",
    "gp_mm_svm = gs_mm_svm.predict(X_test_mm)\n",
    "cm_mm = confusion_matrix(y_test,gp_mm_svm)\n",
    "# print(cm_mm)\n",
    "print(classification_report(y_test,gp_mm_svm))"
   ]
  },
  {
   "cell_type": "code",
   "execution_count": null,
   "metadata": {},
   "outputs": [],
   "source": [
    "print('##################### KNN TESTING #####################')\n",
    "print('StandardScaler________________________________________')\n",
    "gp_ss_knn = gs_ss_knn.predict(X_test_ss)\n",
    "cf_ss = confusion_matrix(y_test,gp_ss_knn)\n",
    "# print(cf_ss)\n",
    "print(classification_report(y_test,gp_ss_knn))\n",
    "\n",
    "print('MinMaxScaler__________________________________________')\n",
    "gp_mm_knn = gs_mm_knn.predict(X_test_mm)\n",
    "cf_mm = confusion_matrix(y_test,gp_mm_knn)\n",
    "# print(cf_mm)\n",
    "print(classification_report(y_test,gp_mm_knn))"
   ]
  },
  {
   "cell_type": "code",
   "execution_count": null,
   "metadata": {},
   "outputs": [],
   "source": [
    "labels = ['True Neg','False Pos','False Neg','True Pos']\n",
    "fig_cm_ss = make_confusion_matrix(cm_ss, group_names=labels, figsize=(6,4), title='Testing Confusion Matrix (SS, SVM)', cbar=True, cmap='Blues')\n",
    "plt.savefig('/home/ceci/Desktop/perf/DATA_MU/CF/ALL_PN_SS_SVM.png')\n",
    "plt.show()\n",
    "\n",
    "fig_cf_mm = make_confusion_matrix(cm_mm, group_names=labels, figsize=(6,4), title='Testing Confusion Matrix (MM, SVM)', cbar=True, cmap='Blues')\n",
    "plt.savefig('/home/ceci/Desktop/perf/DATA_MU/CF/ALL_PN_MM_SVM.png')\n",
    "plt.show()"
   ]
  },
  {
   "cell_type": "code",
   "execution_count": null,
   "metadata": {},
   "outputs": [],
   "source": [
    "fig_cf_ss = make_confusion_matrix(cf_ss, group_names=labels, figsize=(6,4), title='Testing Confusion Matrix (SS, KNN)', cbar=True, cmap='Oranges')\n",
    "plt.savefig('/home/ceci/Desktop/perf/DATA_MU/CF/ALL_PN_SS_KNN.png')\n",
    "plt.show()\n",
    "\n",
    "fig_cf_mm = make_confusion_matrix(cf_mm, group_names=labels, figsize=(6,4), title='Testing Confusion Matrix (MM, KNN)', cbar=True, cmap='Oranges')\n",
    "plt.savefig('/home/ceci/Desktop/perf/DATA_MU/CF/ALL_PN_MM_KNN.png')\n",
    "plt.show()"
   ]
  },
  {
   "cell_type": "markdown",
   "metadata": {},
   "source": [
    "WITH SFS FEATURE SELECTION"
   ]
  },
  {
   "cell_type": "code",
   "execution_count": null,
   "metadata": {},
   "outputs": [],
   "source": [
    "#### SFS KNN\n",
    "knn_s = KNeighborsClassifier(n_neighbors=2, metric='hamming', weights='distance')\n",
    "\n",
    "sfs_ss_knn = SFS(estimator=knn_s, \n",
    "           k_features=4,\n",
    "           forward=True, \n",
    "           floating=False, \n",
    "           scoring='accuracy',\n",
    "           cv=5,\n",
    "           n_jobs=-1)\n",
    "sfs_ss_knn.fit(X_train_ss, y_train)"
   ]
  },
  {
   "cell_type": "code",
   "execution_count": null,
   "metadata": {},
   "outputs": [],
   "source": [
    "print('best combination (ACC: %.3f): %s\\n' % (sfs_ss_knn.k_score_, sfs_ss_knn.k_feature_idx_))\n",
    "#print('all subsets:\\n', sfs_ss.subsets_)\n",
    "fig1 = plot_sfs(sfs_ss_knn.get_metric_dict(), figsize=(33,12) ,kind='std_err')\n",
    "plt.title('Number of Selected Features Subset with Highest Performing Wrapper Method using SFS (Pos/Neg-StandardScaler-KNN)')\n",
    "plt.grid()\n",
    "# plt.savefig('C:/Users/ANAS/Desktop/perf/perf_vm/MU/MUPNSFSssKNN.jpg')\n",
    "plt.show()"
   ]
  },
  {
   "cell_type": "code",
   "execution_count": null,
   "metadata": {},
   "outputs": [],
   "source": [
    "knn_m = KNeighborsClassifier(n_neighbors=2, metric='hamming', weights='distance')\n",
    "\n",
    "sfs_mm_knn = SFS(estimator=knn_m, \n",
    "           k_features=3,\n",
    "           forward=True, \n",
    "           floating=False, \n",
    "           scoring='accuracy',\n",
    "           cv=5,\n",
    "           n_jobs=-1)\n",
    "sfs_mm_knn.fit(X_train_mm, y_train)"
   ]
  },
  {
   "cell_type": "code",
   "execution_count": null,
   "metadata": {},
   "outputs": [],
   "source": [
    "print('best combination (ACC: %.3f): %s\\n' % (sfs_mm_knn.k_score_, sfs_mm_knn.k_feature_idx_))\n",
    "#print('all subsets:\\n', sfs_mm.subsets_)\n",
    "fig2 = plot_sfs(sfs_mm_knn.get_metric_dict(), figsize=(33,12) ,kind='std_err')\n",
    "plt.title('Number of Selected Features Subset with Highest Performing Wrapper Method using SFS (Pos/Neg-MinMaxScaler-KNN)')\n",
    "plt.grid()\n",
    "# plt.savefig('C:/Users/ANAS/Desktop/perf/perf_vm/MU/MUPNSFSmmKNN.jpg')\n",
    "plt.show()"
   ]
  },
  {
   "cell_type": "code",
   "execution_count": 6,
   "metadata": {},
   "outputs": [
    {
     "data": {
      "text/plain": "SequentialFeatureSelector(estimator=SVC(C=100, gamma=0.01), k_features=80,\n                          n_jobs=-1, scoring='accuracy')"
     },
     "execution_count": 6,
     "metadata": {},
     "output_type": "execute_result"
    }
   ],
   "source": [
    "#### SFS SVM\n",
    "svm_s = SVC(C=100, kernel= 'rbf', gamma=0.01)\n",
    "\n",
    "sfs_ss_svm = SFS(estimator=svm_s, \n",
    "           k_features=80,\n",
    "           forward=True, \n",
    "           floating=False, \n",
    "           scoring='accuracy',\n",
    "           cv=5,\n",
    "           n_jobs=-1)\n",
    "sfs_ss_svm.fit(X_train_ss, y_train)"
   ]
  },
  {
   "cell_type": "code",
   "execution_count": 7,
   "metadata": {},
   "outputs": [
    {
     "name": "stdout",
     "output_type": "stream",
     "text": [
      "best combination (ACC: 0.816): (0, 1, 3, 4, 5, 6, 7, 8, 9, 10, 11, 12, 13, 14, 15, 16, 17, 18, 19, 20, 21, 22, 23, 24, 25, 26, 27, 28, 29, 30, 31, 32, 33, 34, 35, 36, 37, 38, 40, 41, 42, 43, 44, 45, 46, 47, 48, 49, 50, 51, 52, 53, 54, 57, 59, 60, 64, 65, 66, 69, 71, 72, 73, 76, 78, 99, 101, 102, 104, 105, 108, 109, 110, 113, 114, 117, 119, 120, 122, 125)\n",
      "\n"
     ]
    },
    {
     "data": {
      "image/png": "[encoded data removed]",
      "text/plain": "<Figure size 2376x864 with 1 Axes>"
     },
     "metadata": {
      "needs_background": "light"
     },
     "output_type": "display_data"
    }
   ],
   "source": [
    "print('best combination (ACC: %.3f): %s\\n' % (sfs_ss_svm.k_score_, sfs_ss_svm.k_feature_idx_))\n",
    "#print('all subsets:\\n', sfs_ss.subsets_)\n",
    "fig1 = plot_sfs(sfs_ss_svm.get_metric_dict(), figsize=(33,12) ,kind='std_err')\n",
    "plt.title('Number of Selected Features Subset with Highest Performing Wrapper Method using SFS (Pos/Neg-StandardScaler-KNN)')\n",
    "plt.grid()\n",
    "# plt.savefig('C:/Users/ANAS/Desktop/perf/perf_vm/MU/MUPNSFSssKNN.jpg')\n",
    "plt.show()"
   ]
  },
  {
   "cell_type": "code",
   "execution_count": null,
   "metadata": {},
   "outputs": [],
   "source": [
    "svm_m = SVC(C=100, kernel= 'rbf', gamma=1)\n",
    "\n",
    "sfs_mm_svm = SFS(estimator=svm_m, \n",
    "           k_features=80,\n",
    "           forward=True, \n",
    "           floating=False, \n",
    "           scoring='accuracy',\n",
    "           cv=5,\n",
    "           n_jobs=-1)\n",
    "sfs_mm_svm.fit(X_train_mm, y_train)"
   ]
  },
  {
   "cell_type": "code",
   "execution_count": null,
   "metadata": {},
   "outputs": [],
   "source": [
    "print('best combination (ACC: %.3f): %s\\n' % (sfs_mm_svm.k_score_, sfs_mm_svm.k_feature_idx_))\n",
    "#print('all subsets:\\n', sfs_mm.subsets_)\n",
    "fig2 = plot_sfs(sfs_mm_svm.get_metric_dict(), figsize=(33,12) ,kind='std_err')\n",
    "plt.title('Number of Selected Features Subset with Highest Performing Wrapper Method using SFS (Pos/Neg-MinMaxScaler-KNN)')\n",
    "plt.grid()\n",
    "# plt.savefig('C:/Users/ANAS/Desktop/perf/perf_vm/MU/MUPNSFSmmKNN.jpg')\n",
    "plt.show()"
   ]
  },
  {
   "cell_type": "code",
   "execution_count": null,
   "metadata": {},
   "outputs": [],
   "source": [
    "satu = pd.DataFrame.from_dict(sfs_ss_knn.get_metric_dict()).T\n",
    "x_satu  = satu.index.values.tolist()\n",
    "y_satu = satu['avg_score'].values.tolist()\n",
    "# print(satu['feature_idx'])\n",
    "plt.plot(x_satu, y_satu, label = \"KNN with StandardScaler\")\n",
    "\n",
    "dua = pd.DataFrame.from_dict(sfs_mm_knn.get_metric_dict()).T\n",
    "x_dua  = dua.index.values.tolist()\n",
    "y_dua = dua['avg_score'].values.tolist()\n",
    "# print(dua['feature_idx'])\n",
    "plt.plot(x_dua, y_dua, label = \"KNN with MinMaxScaler\")\n",
    "\n",
    "tiga = pd.DataFrame.from_dict(sfs_ss_svm.get_metric_dict()).T\n",
    "x_tiga  = tiga.index.values.tolist()\n",
    "y_tiga = tiga['avg_score'].values.tolist()\n",
    "# print(tiga['feature_idx'])\n",
    "plt.plot(x_tiga, y_tiga, label = \"SVM with StandardScaler\")\n",
    "\n",
    "empat = pd.DataFrame.from_dict(sfs_mm_svm.get_metric_dict()).T\n",
    "x_empat  = empat.index.values.tolist()\n",
    "y_empat = empat['avg_score'].values.tolist()\n",
    "# print(empat['feature_idx'])\n",
    "plt.plot(x_empat, y_empat, label = \"SVM with MinMaxScaler\")\n",
    "\n",
    "plt.xticks(x_empat) #kena tukar pada x scale yg paling bnyk\n",
    "plt.xlabel('Number of Features Selected')\n",
    "plt.ylabel('Average Cross Validated Iteration Accuracy')\n",
    "plt.title('Wrapper Method-SFS Performance Comparison Between Classifiers and Data Scaling'\n",
    "\n",
    "# plt.plt.legend()\n",
    "# plt.rcParams[\"figure.figsize\"] = (30,7)\n",
    "# plt.savefig('/home/ceci/Desktop/perf/MU/CF/L.jpg')\n",
    "# plt.show()\n"
   ]
  },
  {
   "cell_type": "code",
   "execution_count": null,
   "metadata": {},
   "outputs": [],
   "source": [
    "#REMOVING THE USELESS COLUMNS FROM SFS\r\n",
    "X_train_ss_sfs_knn = sfs_ss_knn.transform(X_train_ss)\r\n",
    "X_test_ss_sfs_knn = sfs_ss_knn.transform(X_test_ss)\r\n",
    "\r\n",
    "X_train_mm_sfs_knn = sfs_mm_knn.transform(X_train_mm)\r\n",
    "X_test_mm_sfs_knn = sfs_mm_knn.transform(X_test_mm)\r\n",
    "\r\n",
    "X_train_ss_sfs_svm = sfs_ss_svm.transform(X_train_ss)\r\n",
    "X_test_ss_sfs_svm = sfs_ss_svm.transform(X_test_ss)\r\n",
    "\r\n",
    "X_train_mm_sfs_svm = sfs_mm_svm.transform(X_train_mm)\r\n",
    "X_test_mm_sfs_svm = sfs_mm_svm.transform(X_test_mm)"
   ]
  },
  {
   "cell_type": "code",
   "execution_count": null,
   "metadata": {},
   "outputs": [],
   "source": [
    "#param_grid = {'C': [0.1,1, 10, 100], 'gamma': [1,0.1,0.01,0.001],'kernel': ['rbf', 'poly', 'sigmoid']}\r\n",
    "param_grid_svm = {'C': [100], 'gamma': ['auto', 'scale'],'kernel': ['rbf']}\r\n",
    "\r\n",
    "# param_grid = {'n_neighbors': [2, 3, 5, 7, 90, 45],\r\n",
    "#               'weights': ['uniform', 'distance'],\r\n",
    "#               'metric': ['euclidean', 'manhattan']}\r\n",
    "\r\n",
    "param_grid_knn = {'n_neighbors': [2],\r\n",
    "              'weights': ['distance'],\r\n",
    "              'metric': ['hamming']}\r\n"
   ]
  },
  {
   "cell_type": "code",
   "execution_count": null,
   "metadata": {
    "tags": []
   },
   "outputs": [],
   "source": [
    "grid_ss_knn = GridSearchCV(KNeighborsClassifier(), param_grid=param_grid_knn, refit=True,cv=10,verbose=3,return_train_score=True, n_jobs=-1) \n",
    "grid_ss_knn.fit(X_train_ss_sfs_knn,y_train)\n",
    "# print(grid_ss_knn.best_estimator_)\n",
    "# print(grid_ss_knn.cv_results_)"
   ]
  },
  {
   "cell_type": "code",
   "execution_count": null,
   "metadata": {},
   "outputs": [],
   "source": [
    "grid_mm_knn = GridSearchCV(KNeighborsClassifier(), param_grid=param_grid_knn, refit=True,cv=10,verbose=3,return_train_score=True, n_jobs=-1) \n",
    "grid_mm_knn.fit(X_train_mm_sfs_knn,y_train)\n",
    "# print(grid_mm_knn.best_estimator_)\n",
    "# print(grid_mm_knn.cv_results_)"
   ]
  },
  {
   "cell_type": "code",
   "execution_count": null,
   "metadata": {},
   "outputs": [],
   "source": [
    "grid_ss_svm = GridSearchCV(SVC(), param_grid=param_grid_svm, refit=True,cv=10,verbose=3,return_train_score=True, n_jobs=-1) \n",
    "grid_ss_svm.fit(X_train_ss_sfs_svm,y_train)\n",
    "# print(grid_ss_svm.best_estimator_)\n",
    "# print(grid_ss_svm.cv_results_)"
   ]
  },
  {
   "cell_type": "code",
   "execution_count": null,
   "metadata": {},
   "outputs": [],
   "source": [
    "grid_mm_svm = GridSearchCV(SVC(), param_grid=param_grid_svm, refit=True,cv=10,verbose=3,return_train_score=True, n_jobs=-1) \n",
    "grid_mm_svm.fit(X_train_mm_sfs_svm,y_train)\n",
    "# print(grid_mm_svm.best_estimator_)\n",
    "# print(grid_mm_svm.cv_results_)"
   ]
  },
  {
   "cell_type": "code",
   "execution_count": null,
   "metadata": {},
   "outputs": [],
   "source": [
    "print('################### SFS-KNN TESTING ###################')\r\n",
    "print('StandardScaler________________________________________')\r\n",
    "grid_predictions_ss_knn = grid_ss_knn.predict(X_test_ss_sfs_knn)\r\n",
    "mat1 = confusion_matrix(y_test,grid_predictions_ss_knn)\r\n",
    "# print(mat1)\r\n",
    "print(classification_report(y_test,grid_predictions_ss_knn))\r\n",
    "\r\n",
    "print('MinMaxScaler__________________________________________')\r\n",
    "grid_predictions_mm_knn = grid_mm_knn.predict(X_test_mm_sfs_knn)\r\n",
    "mat2 = confusion_matrix(y_test,grid_predictions_mm_knn)\r\n",
    "# print(mat2)\r\n",
    "print(classification_report(y_test,grid_predictions_mm_knn))"
   ]
  },
  {
   "cell_type": "code",
   "execution_count": null,
   "metadata": {},
   "outputs": [],
   "source": [
    "print('################### SFS-SVM TESTING ###################')\r\n",
    "print('StandardScaler________________________________________')\r\n",
    "grid_predictions_ss_svm = grid_ss_svm.predict(X_test_ss_sfs_svm)\r\n",
    "mat3 = confusion_matrix(y_test,grid_predictions_ss_svm)\r\n",
    "# print(mat3)\r\n",
    "print(classification_report(y_test,grid_predictions_ss_svm))\r\n",
    "\r\n",
    "print('MinMaxScaler__________________________________________')\r\n",
    "grid_predictions_mm_svm = grid_mm_svm.predict(X_test_mm_sfs_svm)\r\n",
    "mat4 = confusion_matrix(y_test,grid_predictions_mm_svm)\r\n",
    "# print(mat4)\r\n",
    "print(classification_report(y_test,grid_predictions_mm_svm))"
   ]
  },
  {
   "cell_type": "code",
   "execution_count": null,
   "metadata": {},
   "outputs": [],
   "source": [
    "labels = ['True Neg','False Pos','False Neg','True Pos']\r\n",
    "figsatu = make_confusion_matrix(mat1, group_names=labels, figsize=(6,4), title='TUKAR SINI', cbar=True, cmap='Oranges')\r\n",
    "# plt.savefig('/home/ceci/Desktop/perf/MU/CF/TITLE.jpg')\r\n",
    "plt.show()\r\n",
    "\r\n",
    "figdua = make_confusion_matrix(mat2, group_names=labels, figsize=(6,4), title='TUKAR SINI', cbar=True, cmap='Oranges')\r\n",
    "# plt.savefig('/home/ceci/Desktop/perf/MU/CF/LITTLE.jpg')\r\n",
    "plt.show()"
   ]
  },
  {
   "cell_type": "code",
   "execution_count": null,
   "metadata": {},
   "outputs": [],
   "source": [
    "figtiga = make_confusion_matrix(mat3, group_names=labels, figsize=(6,4), title='TUKAR SINI', cbar=True, cmap='Oranges')\r\n",
    "# plt.savefig('/home/ceci/Desktop/perf/MU/CF/TITLE.jpg')\r\n",
    "plt.show()\r\n",
    "\r\n",
    "figempat = make_confusion_matrix(mat4, group_names=labels, figsize=(6,4), title='TUKAR SINI', cbar=True, cmap='Oranges')\r\n",
    "# plt.savefig('/home/ceci/Desktop/perf/MU/CF/LITTLE.jpg')\r\n",
    "plt.show()"
   ]
  },
  {
   "cell_type": "markdown",
   "metadata": {},
   "source": [
    "WITH LDA FEATURE REDUCTION"
   ]
  },
  {
   "cell_type": "code",
   "execution_count": null,
   "metadata": {},
   "outputs": [],
   "source": [
    "#DIMENSIONALITY REDUCTION\r\n",
    "lda_ss = LDA(n_components=1)\r\n",
    "lda_mm = LDA(n_components=1)\r\n",
    "\r\n",
    "X_train_ss_lda = lda_ss.fit_transform(X_train_ss_sfs, y_train)\r\n",
    "X_test_ss_lda = lda_ss.transform(X_test_ss_sfs)\r\n",
    "\r\n",
    "X_train_mm_lda = lda_mm.fit_transform(X_train_mm_sfs, y_train)\r\n",
    "X_test_mm_lda = lda_mm.transform(X_test_mm_sfs)"
   ]
  },
  {
   "cell_type": "code",
   "execution_count": null,
   "metadata": {},
   "outputs": [],
   "source": [
    "grid_ss.fit(X_train_ss_lda,y_train)\r\n",
    "grid_mm.fit(X_train_mm_lda,y_train)"
   ]
  },
  {
   "cell_type": "code",
   "execution_count": null,
   "metadata": {},
   "outputs": [],
   "source": [
    "print(grid_ss.best_estimator_)\r\n",
    "print(grid_mm.best_estimator_)\r\n",
    "\r\n",
    "print(grid_ss.cv_results_)\r\n",
    "print(grid_mm.cv_results_)"
   ]
  },
  {
   "cell_type": "code",
   "execution_count": null,
   "metadata": {},
   "outputs": [],
   "source": [
    "grid_predictions_ss = grid_ss.predict(X_test_ss_lda)\r\n",
    "print(confusion_matrix(y_test,grid_predictions_ss))\r\n",
    "print(classification_report(y_test,grid_predictions_ss))\r\n",
    "print('\\n')\r\n",
    "grid_predictions_mm = grid_mm.predict(X_test_mm_lda)\r\n",
    "print(confusion_matrix(y_test,grid_predictions_mm))\r\n",
    "print(classification_report(y_test,grid_predictions_mm))"
   ]
  }
 ],
 "metadata": {
  "kernelspec": {
   "display_name": "Python 3.8.5 64-bit",
   "name": "python385jvsc74a57bd0916dbcbb3f70747c44a77c7bcd40155683ae19c65e1c03b4aa3499c5328201f1"
  },
  "language_info": {
   "codemirror_mode": {
    "name": "ipython",
    "version": 3
   },
   "file_extension": ".py",
   "mimetype": "text/x-python",
   "name": "python",
   "nbconvert_exporter": "python",
   "pygments_lexer": "ipython3",
   "version": "3.8.5"
  },
  "metadata": {
   "interpreter": {
    "hash": "916dbcbb3f70747c44a77c7bcd40155683ae19c65e1c03b4aa3499c5328201f1"
   }
  },
  "orig_nbformat": 3
 },
 "nbformat": 4,
 "nbformat_minor": 2
}